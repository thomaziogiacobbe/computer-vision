{
 "nbformat": 4,
 "nbformat_minor": 0,
 "metadata": {
  "colab": {
   "provenance": []
  },
  "kernelspec": {
   "name": "python3",
   "display_name": "Python 3 (ipykernel)",
   "language": "python"
  },
  "language_info": {
   "name": "python"
  }
 },
 "cells": [
  {
   "cell_type": "markdown",
   "source": [
    "# Classification of images"
   ],
   "metadata": {
    "id": "y0PQjTAZj4oI"
   }
  },
  {
   "metadata": {
    "ExecuteTime": {
     "end_time": "2024-10-31T19:17:23.616574Z",
     "start_time": "2024-10-31T19:17:23.538854Z"
    }
   },
   "cell_type": "code",
   "source": [
    "import numpy as np \n",
    "np.object = np.object_\n",
    "np.bool = bool\n",
    "np.int = int"
   ],
   "outputs": [],
   "execution_count": 1
  },
  {
   "metadata": {
    "id": "O3-6aqgfjeih",
    "ExecuteTime": {
     "end_time": "2024-10-31T19:17:25.234069Z",
     "start_time": "2024-10-31T19:17:23.623088Z"
    }
   },
   "cell_type": "code",
   "source": [
    "import zipfile\n",
    "import tensorflow as tf\n",
    "from tensorflow.keras.preprocessing.image import ImageDataGenerator\n",
    "from tensorflow.keras.models import Sequential\n",
    "from tensorflow.keras.layers import Dense, Dropout, Conv2D, MaxPooling2D, Flatten, BatchNormalization"
   ],
   "outputs": [],
   "execution_count": 2
  },
  {
   "cell_type": "markdown",
   "source": [
    "## Loading the images"
   ],
   "metadata": {
    "id": "Tx8qPnnAkJjZ"
   }
  },
  {
   "cell_type": "code",
   "source": [
    "path = 'fer_images.zip'\n",
    "zip_object = zipfile.ZipFile(file=path, mode='r')\n",
    "zip_object.extractall('./')\n",
    "zip_object.close()"
   ],
   "metadata": {
    "id": "vYgMgYzZkzOq",
    "ExecuteTime": {
     "end_time": "2024-10-31T19:17:35.331738Z",
     "start_time": "2024-10-31T19:17:25.282942Z"
    }
   },
   "outputs": [],
   "execution_count": 3
  },
  {
   "cell_type": "code",
   "source": "tf.keras.preprocessing.image.load_img('fer2013/train/Angry/1008.jpg')",
   "metadata": {
    "colab": {
     "base_uri": "https://localhost:8080/",
     "height": 65
    },
    "id": "TjH25pwXlCn0",
    "outputId": "f9b3c13d-a52a-4283-ab10-302850a2e68f",
    "ExecuteTime": {
     "end_time": "2024-10-31T19:17:35.376892Z",
     "start_time": "2024-10-31T19:17:35.347903Z"
    }
   },
   "outputs": [
    {
     "data": {
      "text/plain": [
       "<PIL.Image.Image image mode=RGB size=48x48>"
      ],
      "image/png": "[encoded data removed]",
      "image/jpeg": "[encoded data removed]"
     },
     "execution_count": 4,
     "metadata": {},
     "output_type": "execute_result"
    }
   ],
   "execution_count": 4
  },
  {
   "cell_type": "code",
   "source": [
    "image = tf.keras.preprocessing.image.load_img('fer2013/train/Happy/1.jpg')\n",
    "image"
   ],
   "metadata": {
    "colab": {
     "base_uri": "https://localhost:8080/",
     "height": 65
    },
    "id": "QA94xyxhlLYc",
    "outputId": "ca53b934-85f9-45a4-9598-6da6fc4d45c0",
    "ExecuteTime": {
     "end_time": "2024-10-31T19:17:35.407619Z",
     "start_time": "2024-10-31T19:17:35.393112Z"
    }
   },
   "outputs": [
    {
     "data": {
      "text/plain": [
       "<PIL.Image.Image image mode=RGB size=48x48>"
      ],
      "image/png": "[encoded data removed]",
      "image/jpeg": "[encoded data removed]"
     },
     "execution_count": 5,
     "metadata": {},
     "output_type": "execute_result"
    }
   ],
   "execution_count": 5
  },
  {
   "cell_type": "markdown",
   "source": [
    "## Train and test dataset"
   ],
   "metadata": {
    "id": "9nvsT5YFlQGE"
   }
  },
  {
   "cell_type": "code",
   "source": [
    "training_generator = ImageDataGenerator(rescale=1./255,\n",
    "                                        rotation_range=7,\n",
    "                                        horizontal_flip=True,\n",
    "                                        zoom_range=0.2)\n",
    "train_dataset = training_generator.flow_from_directory('fer2013/train',\n",
    "                                                        target_size = (48, 48),\n",
    "                                                        batch_size = 16,\n",
    "                                                        class_mode = 'categorical',\n",
    "                                                        shuffle = True)"
   ],
   "metadata": {
    "colab": {
     "base_uri": "https://localhost:8080/"
    },
    "id": "dej82UKslSvB",
    "outputId": "3bc8d377-78c0-43ce-b755-93cafedc5029",
    "ExecuteTime": {
     "end_time": "2024-10-31T19:17:35.922933Z",
     "start_time": "2024-10-31T19:17:35.424636Z"
    }
   },
   "outputs": [
    {
     "name": "stdout",
     "output_type": "stream",
     "text": [
      "Found 28709 images belonging to 7 classes.\n"
     ]
    }
   ],
   "execution_count": 6
  },
  {
   "cell_type": "code",
   "source": [
    "train_dataset.class_indices"
   ],
   "metadata": {
    "colab": {
     "base_uri": "https://localhost:8080/"
    },
    "id": "NUAEexpzlWWs",
    "outputId": "d351fe0f-3a27-401d-af66-6f481b64b501",
    "ExecuteTime": {
     "end_time": "2024-10-31T19:17:35.954047Z",
     "start_time": "2024-10-31T19:17:35.939442Z"
    }
   },
   "outputs": [
    {
     "data": {
      "text/plain": [
       "{'Angry': 0,\n",
       " 'Disgust': 1,\n",
       " 'Fear': 2,\n",
       " 'Happy': 3,\n",
       " 'Neutral': 4,\n",
       " 'Sad': 5,\n",
       " 'Surprise': 6}"
      ]
     },
     "execution_count": 7,
     "metadata": {},
     "output_type": "execute_result"
    }
   ],
   "execution_count": 7
  },
  {
   "cell_type": "code",
   "source": [
    "np.unique(train_dataset.classes, return_counts=True)"
   ],
   "metadata": {
    "colab": {
     "base_uri": "https://localhost:8080/"
    },
    "id": "lhPXS_MulaS0",
    "outputId": "970c6307-3d2a-4745-d445-ebfff86fe379",
    "ExecuteTime": {
     "end_time": "2024-10-31T19:17:35.985601Z",
     "start_time": "2024-10-31T19:17:35.971065Z"
    }
   },
   "outputs": [
    {
     "data": {
      "text/plain": [
       "(array([0, 1, 2, 3, 4, 5, 6]),\n",
       " array([3995,  436, 4097, 7215, 4965, 4830, 3171], dtype=int64))"
      ]
     },
     "execution_count": 8,
     "metadata": {},
     "output_type": "execute_result"
    }
   ],
   "execution_count": 8
  },
  {
   "cell_type": "code",
   "source": "#sns.countplot(x = train_dataset.classes);",
   "metadata": {
    "colab": {
     "base_uri": "https://localhost:8080/",
     "height": 430
    },
    "id": "LmSa6002lks2",
    "outputId": "a445fed8-652b-46d3-828e-2de2cc11297b",
    "ExecuteTime": {
     "end_time": "2024-10-31T19:17:36.016767Z",
     "start_time": "2024-10-31T19:17:36.002263Z"
    }
   },
   "outputs": [],
   "execution_count": 9
  },
  {
   "cell_type": "code",
   "source": [
    "test_generator = ImageDataGenerator(rescale=1./255)\n",
    "test_dataset = test_generator.flow_from_directory('fer2013/validation',\n",
    "                                                  target_size = (48, 48),\n",
    "                                                  batch_size = 1,\n",
    "                                                  class_mode = 'categorical',\n",
    "                                                  shuffle = False)"
   ],
   "metadata": {
    "colab": {
     "base_uri": "https://localhost:8080/"
    },
    "id": "QsOovx5_l1RV",
    "outputId": "a0f36c73-6432-4e6b-979d-0e79a96349b6",
    "ExecuteTime": {
     "end_time": "2024-10-31T19:17:36.124650Z",
     "start_time": "2024-10-31T19:17:36.032988Z"
    }
   },
   "outputs": [
    {
     "name": "stdout",
     "output_type": "stream",
     "text": [
      "Found 3589 images belonging to 7 classes.\n"
     ]
    }
   ],
   "execution_count": 10
  },
  {
   "cell_type": "markdown",
   "source": [
    "## Building and training the CNN"
   ],
   "metadata": {
    "id": "Y2UyuKUsl5kl"
   }
  },
  {
   "cell_type": "markdown",
   "source": [
    "Based on:\n",
    "https://github.com/rajeevratan84/DeepLearningCV/blob/master/18.2%20Building%20an%20Emotion%20Detector%20with%20LittleVGG.ipynb\n",
    "\n",
    "\n",
    "Padding:\n",
    "https://www.pico.net/kb/what-is-the-difference-between-same-and-valid-padding-in-tf-nn-max-pool-of-tensorflow\n",
    "\n",
    "\n",
    "BatchNormalization: https://keras.io/api/layers/normalization_layers/batch_normalization/\n",
    "\n",
    "\n",
    "Dropout: https://jmlr.org/papers/volume15/srivastava14a.old/srivastava14a.pdf"
   ],
   "metadata": {
    "id": "IpJtvAwEmCPd"
   }
  },
  {
   "cell_type": "code",
   "source": [
    "num_detectors = 32\n",
    "num_classes = 7\n",
    "width, height = 48, 48\n",
    "epochs = 70\n",
    "\n",
    "network = Sequential()\n",
    "\n",
    "network.add(Conv2D(num_detectors, (3,3), activation='relu', padding = 'same', input_shape = (width, height, 3)))\n",
    "network.add(BatchNormalization())\n",
    "network.add(Conv2D(num_detectors, (3,3), activation='relu', padding = 'same'))\n",
    "network.add(BatchNormalization())\n",
    "network.add(MaxPooling2D(pool_size=(2,2)))\n",
    "network.add(Dropout(0.2))\n",
    "\n",
    "network.add(Conv2D(2*num_detectors, (3,3), activation='relu', padding = 'same'))\n",
    "network.add(BatchNormalization())\n",
    "network.add(Conv2D(2*num_detectors, (3,3), activation='relu', padding = 'same'))\n",
    "network.add(BatchNormalization())\n",
    "network.add(MaxPooling2D(pool_size=(2,2)))\n",
    "network.add(Dropout(0.2))\n",
    "\n",
    "network.add(Conv2D(2*2*num_detectors, (3,3), activation='relu', padding = 'same'))\n",
    "network.add(BatchNormalization())\n",
    "network.add(Conv2D(2*2*num_detectors, (3,3), activation='relu', padding = 'same'))\n",
    "network.add(BatchNormalization())\n",
    "network.add(MaxPooling2D(pool_size=(2,2)))\n",
    "network.add(Dropout(0.2))\n",
    "\n",
    "network.add(Conv2D(2*2*2*num_detectors, (3,3), activation='relu', padding = 'same'))\n",
    "network.add(BatchNormalization())\n",
    "network.add(Conv2D(2*2*2*num_detectors, (3,3), activation='relu', padding = 'same'))\n",
    "network.add(BatchNormalization())\n",
    "network.add(MaxPooling2D(pool_size=(2,2)))\n",
    "network.add(Dropout(0.2))\n",
    "\n",
    "network.add(Flatten())\n",
    "\n",
    "network.add(Dense(2 * num_detectors, activation='relu'))\n",
    "network.add(BatchNormalization())\n",
    "network.add(Dropout(0.2))\n",
    "\n",
    "network.add(Dense(2 * num_detectors, activation='relu'))\n",
    "network.add(BatchNormalization())\n",
    "network.add(Dropout(0.2))\n",
    "\n",
    "network.add(Dense(num_classes, activation='softmax'))\n",
    "print(network.summary())"
   ],
   "metadata": {
    "colab": {
     "base_uri": "https://localhost:8080/",
     "height": 1000
    },
    "id": "Mg18tdvXl8Um",
    "outputId": "740a8a06-5c3d-4ac6-9bd3-847a64f236b6",
    "ExecuteTime": {
     "end_time": "2024-10-31T19:17:36.916642Z",
     "start_time": "2024-10-31T19:17:36.141670Z"
    }
   },
   "outputs": [
    {
     "name": "stdout",
     "output_type": "stream",
     "text": [
      "Model: \"sequential\"\n",
      "_________________________________________________________________\n",
      "Layer (type)                 Output Shape              Param #   \n",
      "=================================================================\n",
      "conv2d (Conv2D)              (None, 48, 48, 32)        896       \n",
      "_________________________________________________________________\n",
      "batch_normalization (BatchNo (None, 48, 48, 32)        128       \n",
      "_________________________________________________________________\n",
      "conv2d_1 (Conv2D)            (None, 48, 48, 32)        9248      \n",
      "_________________________________________________________________\n",
      "batch_normalization_1 (Batch (None, 48, 48, 32)        128       \n",
      "_________________________________________________________________\n",
      "max_pooling2d (MaxPooling2D) (None, 24, 24, 32)        0         \n",
      "_________________________________________________________________\n",
      "dropout (Dropout)            (None, 24, 24, 32)        0         \n",
      "_________________________________________________________________\n",
      "conv2d_2 (Conv2D)            (None, 24, 24, 64)        18496     \n",
      "_________________________________________________________________\n",
      "batch_normalization_2 (Batch (None, 24, 24, 64)        256       \n",
      "_________________________________________________________________\n",
      "conv2d_3 (Conv2D)            (None, 24, 24, 64)        36928     \n",
      "_________________________________________________________________\n",
      "batch_normalization_3 (Batch (None, 24, 24, 64)        256       \n",
      "_________________________________________________________________\n",
      "max_pooling2d_1 (MaxPooling2 (None, 12, 12, 64)        0         \n",
      "_________________________________________________________________\n",
      "dropout_1 (Dropout)          (None, 12, 12, 64)        0         \n",
      "_________________________________________________________________\n",
      "conv2d_4 (Conv2D)            (None, 12, 12, 128)       73856     \n",
      "_________________________________________________________________\n",
      "batch_normalization_4 (Batch (None, 12, 12, 128)       512       \n",
      "_________________________________________________________________\n",
      "conv2d_5 (Conv2D)            (None, 12, 12, 128)       147584    \n",
      "_________________________________________________________________\n",
      "batch_normalization_5 (Batch (None, 12, 12, 128)       512       \n",
      "_________________________________________________________________\n",
      "max_pooling2d_2 (MaxPooling2 (None, 6, 6, 128)         0         \n",
      "_________________________________________________________________\n",
      "dropout_2 (Dropout)          (None, 6, 6, 128)         0         \n",
      "_________________________________________________________________\n",
      "conv2d_6 (Conv2D)            (None, 6, 6, 256)         295168    \n",
      "_________________________________________________________________\n",
      "batch_normalization_6 (Batch (None, 6, 6, 256)         1024      \n",
      "_________________________________________________________________\n",
      "conv2d_7 (Conv2D)            (None, 6, 6, 256)         590080    \n",
      "_________________________________________________________________\n",
      "batch_normalization_7 (Batch (None, 6, 6, 256)         1024      \n",
      "_________________________________________________________________\n",
      "max_pooling2d_3 (MaxPooling2 (None, 3, 3, 256)         0         \n",
      "_________________________________________________________________\n",
      "dropout_3 (Dropout)          (None, 3, 3, 256)         0         \n",
      "_________________________________________________________________\n",
      "flatten (Flatten)            (None, 2304)              0         \n",
      "_________________________________________________________________\n",
      "dense (Dense)                (None, 64)                147520    \n",
      "_________________________________________________________________\n",
      "batch_normalization_8 (Batch (None, 64)                256       \n",
      "_________________________________________________________________\n",
      "dropout_4 (Dropout)          (None, 64)                0         \n",
      "_________________________________________________________________\n",
      "dense_1 (Dense)              (None, 64)                4160      \n",
      "_________________________________________________________________\n",
      "batch_normalization_9 (Batch (None, 64)                256       \n",
      "_________________________________________________________________\n",
      "dropout_5 (Dropout)          (None, 64)                0         \n",
      "_________________________________________________________________\n",
      "dense_2 (Dense)              (None, 7)                 455       \n",
      "=================================================================\n",
      "Total params: 1,328,743\n",
      "Trainable params: 1,326,567\n",
      "Non-trainable params: 2,176\n",
      "_________________________________________________________________\n",
      "None\n"
     ]
    }
   ],
   "execution_count": 11
  },
  {
   "cell_type": "code",
   "source": [
    "network.compile(optimizer='adam', loss='categorical_crossentropy', metrics=['accuracy'])"
   ],
   "metadata": {
    "id": "oY_IpxVmovKN",
    "ExecuteTime": {
     "end_time": "2024-10-31T19:17:36.947761Z",
     "start_time": "2024-10-31T19:17:36.933165Z"
    }
   },
   "outputs": [],
   "execution_count": 12
  },
  {
   "cell_type": "code",
   "source": [
    "network.fit(train_dataset, epochs=epochs, validation_data=test_dataset)"
   ],
   "metadata": {
    "colab": {
     "base_uri": "https://localhost:8080/",
     "height": 403
    },
    "id": "r4jqnoVHoyAe",
    "outputId": "f2ab77a1-0eec-4a09-fbd5-4aadb0060ad1",
    "ExecuteTime": {
     "end_time": "2024-10-31T19:48:42.380105Z",
     "start_time": "2024-10-31T19:17:36.964168Z"
    }
   },
   "outputs": [
    {
     "name": "stdout",
     "output_type": "stream",
     "text": [
      "Epoch 1/70\n",
      "1795/1795 [==============================] - 104s 55ms/step - loss: 1.8542 - accuracy: 0.2674 - val_loss: 1.7601 - val_accuracy: 0.2719\n",
      "Epoch 2/70\n",
      "1795/1795 [==============================] - 25s 14ms/step - loss: 1.5595 - accuracy: 0.3934 - val_loss: 1.5280 - val_accuracy: 0.4021\n",
      "Epoch 3/70\n",
      "1795/1795 [==============================] - 24s 13ms/step - loss: 1.4004 - accuracy: 0.4611 - val_loss: 1.6923 - val_accuracy: 0.3778\n",
      "Epoch 4/70\n",
      "1795/1795 [==============================] - 24s 14ms/step - loss: 1.3211 - accuracy: 0.4974 - val_loss: 1.3982 - val_accuracy: 0.4918\n",
      "Epoch 5/70\n",
      "1795/1795 [==============================] - 23s 13ms/step - loss: 1.2612 - accuracy: 0.5243 - val_loss: 1.3759 - val_accuracy: 0.5032\n",
      "Epoch 6/70\n",
      "1795/1795 [==============================] - 23s 13ms/step - loss: 1.2129 - accuracy: 0.5451 - val_loss: 1.3932 - val_accuracy: 0.4720\n",
      "Epoch 7/70\n",
      "1795/1795 [==============================] - 23s 13ms/step - loss: 1.1785 - accuracy: 0.5622 - val_loss: 1.3708 - val_accuracy: 0.5216\n",
      "Epoch 8/70\n",
      "1795/1795 [==============================] - 24s 13ms/step - loss: 1.1519 - accuracy: 0.5696 - val_loss: 1.3518 - val_accuracy: 0.5183\n",
      "Epoch 9/70\n",
      "1795/1795 [==============================] - 23s 13ms/step - loss: 1.1280 - accuracy: 0.5811 - val_loss: 1.3247 - val_accuracy: 0.5305\n",
      "Epoch 10/70\n",
      "1795/1795 [==============================] - 24s 13ms/step - loss: 1.1056 - accuracy: 0.5889 - val_loss: 1.3209 - val_accuracy: 0.5322\n",
      "Epoch 11/70\n",
      "1795/1795 [==============================] - 25s 14ms/step - loss: 1.0831 - accuracy: 0.5983 - val_loss: 1.2895 - val_accuracy: 0.5383\n",
      "Epoch 12/70\n",
      "1795/1795 [==============================] - 23s 13ms/step - loss: 1.0726 - accuracy: 0.6030 - val_loss: 1.3344 - val_accuracy: 0.5372\n",
      "Epoch 13/70\n",
      "1795/1795 [==============================] - 24s 13ms/step - loss: 1.0511 - accuracy: 0.6121 - val_loss: 1.3496 - val_accuracy: 0.5339\n",
      "Epoch 14/70\n",
      "1795/1795 [==============================] - 24s 13ms/step - loss: 1.0312 - accuracy: 0.6186 - val_loss: 1.3516 - val_accuracy: 0.5545\n",
      "Epoch 15/70\n",
      "1795/1795 [==============================] - 24s 13ms/step - loss: 1.0179 - accuracy: 0.6224 - val_loss: 1.3205 - val_accuracy: 0.5567\n",
      "Epoch 16/70\n",
      "1795/1795 [==============================] - 25s 14ms/step - loss: 1.0128 - accuracy: 0.6272 - val_loss: 1.3846 - val_accuracy: 0.5280\n",
      "Epoch 17/70\n",
      "1795/1795 [==============================] - 25s 14ms/step - loss: 0.9930 - accuracy: 0.6345 - val_loss: 1.3423 - val_accuracy: 0.5592\n",
      "Epoch 18/70\n",
      "1795/1795 [==============================] - 24s 13ms/step - loss: 0.9892 - accuracy: 0.6341 - val_loss: 1.3495 - val_accuracy: 0.5508\n",
      "Epoch 19/70\n",
      "1795/1795 [==============================] - 26s 15ms/step - loss: 0.9741 - accuracy: 0.6412 - val_loss: 1.3636 - val_accuracy: 0.5481\n",
      "Epoch 20/70\n",
      "1795/1795 [==============================] - 27s 15ms/step - loss: 0.9611 - accuracy: 0.6464 - val_loss: 1.3306 - val_accuracy: 0.5520\n",
      "Epoch 21/70\n",
      "1795/1795 [==============================] - 25s 14ms/step - loss: 0.9542 - accuracy: 0.6504 - val_loss: 1.3384 - val_accuracy: 0.5600\n",
      "Epoch 22/70\n",
      "1795/1795 [==============================] - 25s 14ms/step - loss: 0.9398 - accuracy: 0.6548 - val_loss: 1.3611 - val_accuracy: 0.5442\n",
      "Epoch 23/70\n",
      "1795/1795 [==============================] - 26s 14ms/step - loss: 0.9311 - accuracy: 0.6595 - val_loss: 1.4091 - val_accuracy: 0.5188\n",
      "Epoch 24/70\n",
      "1795/1795 [==============================] - 26s 15ms/step - loss: 0.9334 - accuracy: 0.6570 - val_loss: 1.3779 - val_accuracy: 0.5506\n",
      "Epoch 25/70\n",
      "1795/1795 [==============================] - 27s 15ms/step - loss: 0.9229 - accuracy: 0.6610 - val_loss: 1.3356 - val_accuracy: 0.5592\n",
      "Epoch 26/70\n",
      "1795/1795 [==============================] - 27s 15ms/step - loss: 0.9095 - accuracy: 0.6692 - val_loss: 1.3745 - val_accuracy: 0.5609\n",
      "Epoch 27/70\n",
      "1795/1795 [==============================] - 27s 15ms/step - loss: 0.9230 - accuracy: 0.6649 - val_loss: 1.3570 - val_accuracy: 0.5782\n",
      "Epoch 28/70\n",
      "1795/1795 [==============================] - 26s 14ms/step - loss: 0.9015 - accuracy: 0.6726 - val_loss: 1.3303 - val_accuracy: 0.5651\n",
      "Epoch 29/70\n",
      "1795/1795 [==============================] - 26s 15ms/step - loss: 0.8959 - accuracy: 0.6729 - val_loss: 1.3312 - val_accuracy: 0.5651\n",
      "Epoch 30/70\n",
      "1795/1795 [==============================] - 24s 13ms/step - loss: 0.8858 - accuracy: 0.6752 - val_loss: 1.3906 - val_accuracy: 0.5748\n",
      "Epoch 31/70\n",
      "1795/1795 [==============================] - 25s 14ms/step - loss: 0.8765 - accuracy: 0.6800 - val_loss: 1.3973 - val_accuracy: 0.5673\n",
      "Epoch 32/70\n",
      "1795/1795 [==============================] - 25s 14ms/step - loss: 0.8694 - accuracy: 0.6816 - val_loss: 1.3795 - val_accuracy: 0.5762\n",
      "Epoch 33/70\n",
      "1795/1795 [==============================] - 25s 14ms/step - loss: 0.8704 - accuracy: 0.6833 - val_loss: 1.3954 - val_accuracy: 0.5773\n",
      "Epoch 34/70\n",
      "1795/1795 [==============================] - 26s 15ms/step - loss: 0.8619 - accuracy: 0.6832 - val_loss: 1.3805 - val_accuracy: 0.5787\n",
      "Epoch 35/70\n",
      "1795/1795 [==============================] - 25s 14ms/step - loss: 0.8470 - accuracy: 0.6916 - val_loss: 1.4553 - val_accuracy: 0.5614\n",
      "Epoch 36/70\n",
      "1795/1795 [==============================] - 26s 15ms/step - loss: 0.8479 - accuracy: 0.6937 - val_loss: 1.4314 - val_accuracy: 0.5695\n",
      "Epoch 37/70\n",
      "1795/1795 [==============================] - 25s 14ms/step - loss: 0.8484 - accuracy: 0.6910 - val_loss: 1.3761 - val_accuracy: 0.5709\n",
      "Epoch 38/70\n",
      "1795/1795 [==============================] - 27s 15ms/step - loss: 0.8269 - accuracy: 0.6990 - val_loss: 1.3716 - val_accuracy: 0.5626\n",
      "Epoch 39/70\n",
      "1795/1795 [==============================] - 28s 15ms/step - loss: 0.8287 - accuracy: 0.6950 - val_loss: 1.4043 - val_accuracy: 0.5706\n",
      "Epoch 40/70\n",
      "1795/1795 [==============================] - 28s 15ms/step - loss: 0.8215 - accuracy: 0.7000 - val_loss: 1.3911 - val_accuracy: 0.5712\n",
      "Epoch 41/70\n",
      "1795/1795 [==============================] - 26s 15ms/step - loss: 0.8199 - accuracy: 0.7017 - val_loss: 1.4675 - val_accuracy: 0.5782\n",
      "Epoch 42/70\n",
      "1795/1795 [==============================] - 26s 15ms/step - loss: 0.8033 - accuracy: 0.7076 - val_loss: 1.5385 - val_accuracy: 0.5793\n",
      "Epoch 43/70\n",
      "1795/1795 [==============================] - 27s 15ms/step - loss: 0.8002 - accuracy: 0.7087 - val_loss: 1.3874 - val_accuracy: 0.5720\n",
      "Epoch 44/70\n",
      "1795/1795 [==============================] - 27s 15ms/step - loss: 0.7934 - accuracy: 0.7122 - val_loss: 1.4418 - val_accuracy: 0.5837\n",
      "Epoch 45/70\n",
      "1795/1795 [==============================] - 25s 14ms/step - loss: 0.7955 - accuracy: 0.7105 - val_loss: 1.5199 - val_accuracy: 0.5776\n",
      "Epoch 46/70\n",
      "1795/1795 [==============================] - 26s 14ms/step - loss: 0.7854 - accuracy: 0.7176 - val_loss: 1.4485 - val_accuracy: 0.5826\n",
      "Epoch 47/70\n",
      "1795/1795 [==============================] - 26s 14ms/step - loss: 0.7714 - accuracy: 0.7190 - val_loss: 1.4265 - val_accuracy: 0.5698\n",
      "Epoch 48/70\n",
      "1795/1795 [==============================] - 25s 14ms/step - loss: 0.7873 - accuracy: 0.7160 - val_loss: 1.4470 - val_accuracy: 0.5804\n",
      "Epoch 49/70\n",
      "1795/1795 [==============================] - 26s 15ms/step - loss: 0.7743 - accuracy: 0.7207 - val_loss: 1.4628 - val_accuracy: 0.5795\n",
      "Epoch 50/70\n",
      "1795/1795 [==============================] - 27s 15ms/step - loss: 0.7764 - accuracy: 0.7203 - val_loss: 1.4094 - val_accuracy: 0.5787\n",
      "Epoch 51/70\n",
      "1795/1795 [==============================] - 26s 14ms/step - loss: 0.7769 - accuracy: 0.7188 - val_loss: 1.4799 - val_accuracy: 0.5600\n",
      "Epoch 52/70\n",
      "1795/1795 [==============================] - 26s 15ms/step - loss: 0.7672 - accuracy: 0.7205 - val_loss: 1.4543 - val_accuracy: 0.5667\n",
      "Epoch 53/70\n",
      "1795/1795 [==============================] - 26s 15ms/step - loss: 0.7614 - accuracy: 0.7231 - val_loss: 1.4720 - val_accuracy: 0.5773\n",
      "Epoch 54/70\n",
      "1795/1795 [==============================] - 27s 15ms/step - loss: 0.7447 - accuracy: 0.7294 - val_loss: 1.4692 - val_accuracy: 0.5745\n",
      "Epoch 55/70\n",
      "1795/1795 [==============================] - 27s 15ms/step - loss: 0.7506 - accuracy: 0.7269 - val_loss: 1.4497 - val_accuracy: 0.5812\n",
      "Epoch 56/70\n",
      "1795/1795 [==============================] - 27s 15ms/step - loss: 0.7502 - accuracy: 0.7327 - val_loss: 1.4321 - val_accuracy: 0.5754\n",
      "Epoch 57/70\n",
      "1795/1795 [==============================] - 26s 15ms/step - loss: 0.7361 - accuracy: 0.7357 - val_loss: 1.4698 - val_accuracy: 0.5745\n",
      "Epoch 58/70\n",
      "1795/1795 [==============================] - 25s 14ms/step - loss: 0.7398 - accuracy: 0.7324 - val_loss: 1.4505 - val_accuracy: 0.5807\n",
      "Epoch 59/70\n",
      "1795/1795 [==============================] - 25s 14ms/step - loss: 0.7295 - accuracy: 0.7359 - val_loss: 1.5081 - val_accuracy: 0.5701\n",
      "Epoch 60/70\n",
      "1795/1795 [==============================] - 25s 14ms/step - loss: 0.7309 - accuracy: 0.7354 - val_loss: 1.4637 - val_accuracy: 0.5798\n",
      "Epoch 61/70\n",
      "1795/1795 [==============================] - 25s 14ms/step - loss: 0.7134 - accuracy: 0.7407 - val_loss: 1.5356 - val_accuracy: 0.5726\n",
      "Epoch 62/70\n",
      "1795/1795 [==============================] - 27s 15ms/step - loss: 0.7207 - accuracy: 0.7375 - val_loss: 1.4837 - val_accuracy: 0.5832\n",
      "Epoch 63/70\n",
      "1795/1795 [==============================] - 27s 15ms/step - loss: 0.7224 - accuracy: 0.7391 - val_loss: 1.4336 - val_accuracy: 0.5818\n",
      "Epoch 64/70\n",
      "1795/1795 [==============================] - 26s 15ms/step - loss: 0.7100 - accuracy: 0.7435 - val_loss: 1.4984 - val_accuracy: 0.5776\n",
      "Epoch 65/70\n",
      "1795/1795 [==============================] - 27s 15ms/step - loss: 0.7058 - accuracy: 0.7439 - val_loss: 1.5669 - val_accuracy: 0.5793\n",
      "Epoch 66/70\n",
      "1795/1795 [==============================] - 25s 14ms/step - loss: 0.6983 - accuracy: 0.7476 - val_loss: 1.5742 - val_accuracy: 0.5734\n",
      "Epoch 67/70\n",
      "1795/1795 [==============================] - 25s 14ms/step - loss: 0.6994 - accuracy: 0.7476 - val_loss: 1.5552 - val_accuracy: 0.5773\n",
      "Epoch 68/70\n",
      "1795/1795 [==============================] - 26s 14ms/step - loss: 0.6950 - accuracy: 0.7511 - val_loss: 1.5385 - val_accuracy: 0.5768\n",
      "Epoch 69/70\n",
      "1795/1795 [==============================] - 26s 15ms/step - loss: 0.6876 - accuracy: 0.7503 - val_loss: 1.5001 - val_accuracy: 0.5731\n",
      "Epoch 70/70\n",
      "1795/1795 [==============================] - 26s 14ms/step - loss: 0.6901 - accuracy: 0.7477 - val_loss: 1.5435 - val_accuracy: 0.5890\n"
     ]
    },
    {
     "data": {
      "text/plain": [
       "<tensorflow.python.keras.callbacks.History at 0x1c746b16970>"
      ]
     },
     "execution_count": 13,
     "metadata": {},
     "output_type": "execute_result"
    }
   ],
   "execution_count": 13
  },
  {
   "cell_type": "markdown",
   "source": [
    "## Saving and loading the model"
   ],
   "metadata": {
    "id": "nBweTD0npmLD"
   }
  },
  {
   "cell_type": "code",
   "source": [
    "model_json = network.to_json()\n",
    "with open('models/emotions/network_emotions.json','w') as json_file:\n",
    "  json_file.write(model_json)"
   ],
   "metadata": {
    "id": "Ued0ROXqprTU",
    "ExecuteTime": {
     "end_time": "2024-10-31T19:48:42.473171Z",
     "start_time": "2024-10-31T19:48:42.457665Z"
    }
   },
   "outputs": [],
   "execution_count": 14
  },
  {
   "cell_type": "code",
   "source": [
    "from tensorflow.keras.models import save_model\n",
    "network_saved = save_model(network, 'models/emotions/weights_emotions.keras')"
   ],
   "metadata": {
    "id": "2Hr1ymX7ptQS",
    "ExecuteTime": {
     "end_time": "2024-10-31T19:50:57.795714Z",
     "start_time": "2024-10-31T19:50:57.627364Z"
    }
   },
   "outputs": [],
   "execution_count": 17
  },
  {
   "cell_type": "code",
   "source": [
    "with open('models/emotions/network_emotions.json', 'r') as json_file:\n",
    "  json_saved_model = json_file.read()\n",
    "json_saved_model"
   ],
   "metadata": {
    "id": "A4_VjCxXpvZB",
    "ExecuteTime": {
     "end_time": "2024-10-31T19:53:24.264447Z",
     "start_time": "2024-10-31T19:53:24.251342Z"
    }
   },
   "outputs": [
    {
     "data": {
      "text/plain": [
       "'{\"class_name\": \"Sequential\", \"config\": {\"name\": \"sequential\", \"layers\": [{\"class_name\": \"InputLayer\", \"config\": {\"batch_input_shape\": [null, 48, 48, 3], \"dtype\": \"float32\", \"sparse\": false, \"ragged\": false, \"name\": \"conv2d_input\"}}, {\"class_name\": \"Conv2D\", \"config\": {\"name\": \"conv2d\", \"trainable\": true, \"batch_input_shape\": [null, 48, 48, 3], \"dtype\": \"float32\", \"filters\": 32, \"kernel_size\": [3, 3], \"strides\": [1, 1], \"padding\": \"same\", \"data_format\": \"channels_last\", \"dilation_rate\": [1, 1], \"groups\": 1, \"activation\": \"relu\", \"use_bias\": true, \"kernel_initializer\": {\"class_name\": \"GlorotUniform\", \"config\": {\"seed\": null}}, \"bias_initializer\": {\"class_name\": \"Zeros\", \"config\": {}}, \"kernel_regularizer\": null, \"bias_regularizer\": null, \"activity_regularizer\": null, \"kernel_constraint\": null, \"bias_constraint\": null}}, {\"class_name\": \"BatchNormalization\", \"config\": {\"name\": \"batch_normalization\", \"trainable\": true, \"dtype\": \"float32\", \"axis\": [3], \"momentum\": 0.99, \"epsilon\": 0.001, \"center\": true, \"scale\": true, \"beta_initializer\": {\"class_name\": \"Zeros\", \"config\": {}}, \"gamma_initializer\": {\"class_name\": \"Ones\", \"config\": {}}, \"moving_mean_initializer\": {\"class_name\": \"Zeros\", \"config\": {}}, \"moving_variance_initializer\": {\"class_name\": \"Ones\", \"config\": {}}, \"beta_regularizer\": null, \"gamma_regularizer\": null, \"beta_constraint\": null, \"gamma_constraint\": null}}, {\"class_name\": \"Conv2D\", \"config\": {\"name\": \"conv2d_1\", \"trainable\": true, \"dtype\": \"float32\", \"filters\": 32, \"kernel_size\": [3, 3], \"strides\": [1, 1], \"padding\": \"same\", \"data_format\": \"channels_last\", \"dilation_rate\": [1, 1], \"groups\": 1, \"activation\": \"relu\", \"use_bias\": true, \"kernel_initializer\": {\"class_name\": \"GlorotUniform\", \"config\": {\"seed\": null}}, \"bias_initializer\": {\"class_name\": \"Zeros\", \"config\": {}}, \"kernel_regularizer\": null, \"bias_regularizer\": null, \"activity_regularizer\": null, \"kernel_constraint\": null, \"bias_constraint\": null}}, {\"class_name\": \"BatchNormalization\", \"config\": {\"name\": \"batch_normalization_1\", \"trainable\": true, \"dtype\": \"float32\", \"axis\": [3], \"momentum\": 0.99, \"epsilon\": 0.001, \"center\": true, \"scale\": true, \"beta_initializer\": {\"class_name\": \"Zeros\", \"config\": {}}, \"gamma_initializer\": {\"class_name\": \"Ones\", \"config\": {}}, \"moving_mean_initializer\": {\"class_name\": \"Zeros\", \"config\": {}}, \"moving_variance_initializer\": {\"class_name\": \"Ones\", \"config\": {}}, \"beta_regularizer\": null, \"gamma_regularizer\": null, \"beta_constraint\": null, \"gamma_constraint\": null}}, {\"class_name\": \"MaxPooling2D\", \"config\": {\"name\": \"max_pooling2d\", \"trainable\": true, \"dtype\": \"float32\", \"pool_size\": [2, 2], \"padding\": \"valid\", \"strides\": [2, 2], \"data_format\": \"channels_last\"}}, {\"class_name\": \"Dropout\", \"config\": {\"name\": \"dropout\", \"trainable\": true, \"dtype\": \"float32\", \"rate\": 0.2, \"noise_shape\": null, \"seed\": null}}, {\"class_name\": \"Conv2D\", \"config\": {\"name\": \"conv2d_2\", \"trainable\": true, \"dtype\": \"float32\", \"filters\": 64, \"kernel_size\": [3, 3], \"strides\": [1, 1], \"padding\": \"same\", \"data_format\": \"channels_last\", \"dilation_rate\": [1, 1], \"groups\": 1, \"activation\": \"relu\", \"use_bias\": true, \"kernel_initializer\": {\"class_name\": \"GlorotUniform\", \"config\": {\"seed\": null}}, \"bias_initializer\": {\"class_name\": \"Zeros\", \"config\": {}}, \"kernel_regularizer\": null, \"bias_regularizer\": null, \"activity_regularizer\": null, \"kernel_constraint\": null, \"bias_constraint\": null}}, {\"class_name\": \"BatchNormalization\", \"config\": {\"name\": \"batch_normalization_2\", \"trainable\": true, \"dtype\": \"float32\", \"axis\": [3], \"momentum\": 0.99, \"epsilon\": 0.001, \"center\": true, \"scale\": true, \"beta_initializer\": {\"class_name\": \"Zeros\", \"config\": {}}, \"gamma_initializer\": {\"class_name\": \"Ones\", \"config\": {}}, \"moving_mean_initializer\": {\"class_name\": \"Zeros\", \"config\": {}}, \"moving_variance_initializer\": {\"class_name\": \"Ones\", \"config\": {}}, \"beta_regularizer\": null, \"gamma_regularizer\": null, \"beta_constraint\": null, \"gamma_constraint\": null}}, {\"class_name\": \"Conv2D\", \"config\": {\"name\": \"conv2d_3\", \"trainable\": true, \"dtype\": \"float32\", \"filters\": 64, \"kernel_size\": [3, 3], \"strides\": [1, 1], \"padding\": \"same\", \"data_format\": \"channels_last\", \"dilation_rate\": [1, 1], \"groups\": 1, \"activation\": \"relu\", \"use_bias\": true, \"kernel_initializer\": {\"class_name\": \"GlorotUniform\", \"config\": {\"seed\": null}}, \"bias_initializer\": {\"class_name\": \"Zeros\", \"config\": {}}, \"kernel_regularizer\": null, \"bias_regularizer\": null, \"activity_regularizer\": null, \"kernel_constraint\": null, \"bias_constraint\": null}}, {\"class_name\": \"BatchNormalization\", \"config\": {\"name\": \"batch_normalization_3\", \"trainable\": true, \"dtype\": \"float32\", \"axis\": [3], \"momentum\": 0.99, \"epsilon\": 0.001, \"center\": true, \"scale\": true, \"beta_initializer\": {\"class_name\": \"Zeros\", \"config\": {}}, \"gamma_initializer\": {\"class_name\": \"Ones\", \"config\": {}}, \"moving_mean_initializer\": {\"class_name\": \"Zeros\", \"config\": {}}, \"moving_variance_initializer\": {\"class_name\": \"Ones\", \"config\": {}}, \"beta_regularizer\": null, \"gamma_regularizer\": null, \"beta_constraint\": null, \"gamma_constraint\": null}}, {\"class_name\": \"MaxPooling2D\", \"config\": {\"name\": \"max_pooling2d_1\", \"trainable\": true, \"dtype\": \"float32\", \"pool_size\": [2, 2], \"padding\": \"valid\", \"strides\": [2, 2], \"data_format\": \"channels_last\"}}, {\"class_name\": \"Dropout\", \"config\": {\"name\": \"dropout_1\", \"trainable\": true, \"dtype\": \"float32\", \"rate\": 0.2, \"noise_shape\": null, \"seed\": null}}, {\"class_name\": \"Conv2D\", \"config\": {\"name\": \"conv2d_4\", \"trainable\": true, \"dtype\": \"float32\", \"filters\": 128, \"kernel_size\": [3, 3], \"strides\": [1, 1], \"padding\": \"same\", \"data_format\": \"channels_last\", \"dilation_rate\": [1, 1], \"groups\": 1, \"activation\": \"relu\", \"use_bias\": true, \"kernel_initializer\": {\"class_name\": \"GlorotUniform\", \"config\": {\"seed\": null}}, \"bias_initializer\": {\"class_name\": \"Zeros\", \"config\": {}}, \"kernel_regularizer\": null, \"bias_regularizer\": null, \"activity_regularizer\": null, \"kernel_constraint\": null, \"bias_constraint\": null}}, {\"class_name\": \"BatchNormalization\", \"config\": {\"name\": \"batch_normalization_4\", \"trainable\": true, \"dtype\": \"float32\", \"axis\": [3], \"momentum\": 0.99, \"epsilon\": 0.001, \"center\": true, \"scale\": true, \"beta_initializer\": {\"class_name\": \"Zeros\", \"config\": {}}, \"gamma_initializer\": {\"class_name\": \"Ones\", \"config\": {}}, \"moving_mean_initializer\": {\"class_name\": \"Zeros\", \"config\": {}}, \"moving_variance_initializer\": {\"class_name\": \"Ones\", \"config\": {}}, \"beta_regularizer\": null, \"gamma_regularizer\": null, \"beta_constraint\": null, \"gamma_constraint\": null}}, {\"class_name\": \"Conv2D\", \"config\": {\"name\": \"conv2d_5\", \"trainable\": true, \"dtype\": \"float32\", \"filters\": 128, \"kernel_size\": [3, 3], \"strides\": [1, 1], \"padding\": \"same\", \"data_format\": \"channels_last\", \"dilation_rate\": [1, 1], \"groups\": 1, \"activation\": \"relu\", \"use_bias\": true, \"kernel_initializer\": {\"class_name\": \"GlorotUniform\", \"config\": {\"seed\": null}}, \"bias_initializer\": {\"class_name\": \"Zeros\", \"config\": {}}, \"kernel_regularizer\": null, \"bias_regularizer\": null, \"activity_regularizer\": null, \"kernel_constraint\": null, \"bias_constraint\": null}}, {\"class_name\": \"BatchNormalization\", \"config\": {\"name\": \"batch_normalization_5\", \"trainable\": true, \"dtype\": \"float32\", \"axis\": [3], \"momentum\": 0.99, \"epsilon\": 0.001, \"center\": true, \"scale\": true, \"beta_initializer\": {\"class_name\": \"Zeros\", \"config\": {}}, \"gamma_initializer\": {\"class_name\": \"Ones\", \"config\": {}}, \"moving_mean_initializer\": {\"class_name\": \"Zeros\", \"config\": {}}, \"moving_variance_initializer\": {\"class_name\": \"Ones\", \"config\": {}}, \"beta_regularizer\": null, \"gamma_regularizer\": null, \"beta_constraint\": null, \"gamma_constraint\": null}}, {\"class_name\": \"MaxPooling2D\", \"config\": {\"name\": \"max_pooling2d_2\", \"trainable\": true, \"dtype\": \"float32\", \"pool_size\": [2, 2], \"padding\": \"valid\", \"strides\": [2, 2], \"data_format\": \"channels_last\"}}, {\"class_name\": \"Dropout\", \"config\": {\"name\": \"dropout_2\", \"trainable\": true, \"dtype\": \"float32\", \"rate\": 0.2, \"noise_shape\": null, \"seed\": null}}, {\"class_name\": \"Conv2D\", \"config\": {\"name\": \"conv2d_6\", \"trainable\": true, \"dtype\": \"float32\", \"filters\": 256, \"kernel_size\": [3, 3], \"strides\": [1, 1], \"padding\": \"same\", \"data_format\": \"channels_last\", \"dilation_rate\": [1, 1], \"groups\": 1, \"activation\": \"relu\", \"use_bias\": true, \"kernel_initializer\": {\"class_name\": \"GlorotUniform\", \"config\": {\"seed\": null}}, \"bias_initializer\": {\"class_name\": \"Zeros\", \"config\": {}}, \"kernel_regularizer\": null, \"bias_regularizer\": null, \"activity_regularizer\": null, \"kernel_constraint\": null, \"bias_constraint\": null}}, {\"class_name\": \"BatchNormalization\", \"config\": {\"name\": \"batch_normalization_6\", \"trainable\": true, \"dtype\": \"float32\", \"axis\": [3], \"momentum\": 0.99, \"epsilon\": 0.001, \"center\": true, \"scale\": true, \"beta_initializer\": {\"class_name\": \"Zeros\", \"config\": {}}, \"gamma_initializer\": {\"class_name\": \"Ones\", \"config\": {}}, \"moving_mean_initializer\": {\"class_name\": \"Zeros\", \"config\": {}}, \"moving_variance_initializer\": {\"class_name\": \"Ones\", \"config\": {}}, \"beta_regularizer\": null, \"gamma_regularizer\": null, \"beta_constraint\": null, \"gamma_constraint\": null}}, {\"class_name\": \"Conv2D\", \"config\": {\"name\": \"conv2d_7\", \"trainable\": true, \"dtype\": \"float32\", \"filters\": 256, \"kernel_size\": [3, 3], \"strides\": [1, 1], \"padding\": \"same\", \"data_format\": \"channels_last\", \"dilation_rate\": [1, 1], \"groups\": 1, \"activation\": \"relu\", \"use_bias\": true, \"kernel_initializer\": {\"class_name\": \"GlorotUniform\", \"config\": {\"seed\": null}}, \"bias_initializer\": {\"class_name\": \"Zeros\", \"config\": {}}, \"kernel_regularizer\": null, \"bias_regularizer\": null, \"activity_regularizer\": null, \"kernel_constraint\": null, \"bias_constraint\": null}}, {\"class_name\": \"BatchNormalization\", \"config\": {\"name\": \"batch_normalization_7\", \"trainable\": true, \"dtype\": \"float32\", \"axis\": [3], \"momentum\": 0.99, \"epsilon\": 0.001, \"center\": true, \"scale\": true, \"beta_initializer\": {\"class_name\": \"Zeros\", \"config\": {}}, \"gamma_initializer\": {\"class_name\": \"Ones\", \"config\": {}}, \"moving_mean_initializer\": {\"class_name\": \"Zeros\", \"config\": {}}, \"moving_variance_initializer\": {\"class_name\": \"Ones\", \"config\": {}}, \"beta_regularizer\": null, \"gamma_regularizer\": null, \"beta_constraint\": null, \"gamma_constraint\": null}}, {\"class_name\": \"MaxPooling2D\", \"config\": {\"name\": \"max_pooling2d_3\", \"trainable\": true, \"dtype\": \"float32\", \"pool_size\": [2, 2], \"padding\": \"valid\", \"strides\": [2, 2], \"data_format\": \"channels_last\"}}, {\"class_name\": \"Dropout\", \"config\": {\"name\": \"dropout_3\", \"trainable\": true, \"dtype\": \"float32\", \"rate\": 0.2, \"noise_shape\": null, \"seed\": null}}, {\"class_name\": \"Flatten\", \"config\": {\"name\": \"flatten\", \"trainable\": true, \"dtype\": \"float32\", \"data_format\": \"channels_last\"}}, {\"class_name\": \"Dense\", \"config\": {\"name\": \"dense\", \"trainable\": true, \"dtype\": \"float32\", \"units\": 64, \"activation\": \"relu\", \"use_bias\": true, \"kernel_initializer\": {\"class_name\": \"GlorotUniform\", \"config\": {\"seed\": null}}, \"bias_initializer\": {\"class_name\": \"Zeros\", \"config\": {}}, \"kernel_regularizer\": null, \"bias_regularizer\": null, \"activity_regularizer\": null, \"kernel_constraint\": null, \"bias_constraint\": null}}, {\"class_name\": \"BatchNormalization\", \"config\": {\"name\": \"batch_normalization_8\", \"trainable\": true, \"dtype\": \"float32\", \"axis\": [1], \"momentum\": 0.99, \"epsilon\": 0.001, \"center\": true, \"scale\": true, \"beta_initializer\": {\"class_name\": \"Zeros\", \"config\": {}}, \"gamma_initializer\": {\"class_name\": \"Ones\", \"config\": {}}, \"moving_mean_initializer\": {\"class_name\": \"Zeros\", \"config\": {}}, \"moving_variance_initializer\": {\"class_name\": \"Ones\", \"config\": {}}, \"beta_regularizer\": null, \"gamma_regularizer\": null, \"beta_constraint\": null, \"gamma_constraint\": null}}, {\"class_name\": \"Dropout\", \"config\": {\"name\": \"dropout_4\", \"trainable\": true, \"dtype\": \"float32\", \"rate\": 0.2, \"noise_shape\": null, \"seed\": null}}, {\"class_name\": \"Dense\", \"config\": {\"name\": \"dense_1\", \"trainable\": true, \"dtype\": \"float32\", \"units\": 64, \"activation\": \"relu\", \"use_bias\": true, \"kernel_initializer\": {\"class_name\": \"GlorotUniform\", \"config\": {\"seed\": null}}, \"bias_initializer\": {\"class_name\": \"Zeros\", \"config\": {}}, \"kernel_regularizer\": null, \"bias_regularizer\": null, \"activity_regularizer\": null, \"kernel_constraint\": null, \"bias_constraint\": null}}, {\"class_name\": \"BatchNormalization\", \"config\": {\"name\": \"batch_normalization_9\", \"trainable\": true, \"dtype\": \"float32\", \"axis\": [1], \"momentum\": 0.99, \"epsilon\": 0.001, \"center\": true, \"scale\": true, \"beta_initializer\": {\"class_name\": \"Zeros\", \"config\": {}}, \"gamma_initializer\": {\"class_name\": \"Ones\", \"config\": {}}, \"moving_mean_initializer\": {\"class_name\": \"Zeros\", \"config\": {}}, \"moving_variance_initializer\": {\"class_name\": \"Ones\", \"config\": {}}, \"beta_regularizer\": null, \"gamma_regularizer\": null, \"beta_constraint\": null, \"gamma_constraint\": null}}, {\"class_name\": \"Dropout\", \"config\": {\"name\": \"dropout_5\", \"trainable\": true, \"dtype\": \"float32\", \"rate\": 0.2, \"noise_shape\": null, \"seed\": null}}, {\"class_name\": \"Dense\", \"config\": {\"name\": \"dense_2\", \"trainable\": true, \"dtype\": \"float32\", \"units\": 7, \"activation\": \"softmax\", \"use_bias\": true, \"kernel_initializer\": {\"class_name\": \"GlorotUniform\", \"config\": {\"seed\": null}}, \"bias_initializer\": {\"class_name\": \"Zeros\", \"config\": {}}, \"kernel_regularizer\": null, \"bias_regularizer\": null, \"activity_regularizer\": null, \"kernel_constraint\": null, \"bias_constraint\": null}}]}, \"keras_version\": \"2.6.0\", \"backend\": \"tensorflow\"}'"
      ]
     },
     "execution_count": 18,
     "metadata": {},
     "output_type": "execute_result"
    }
   ],
   "execution_count": 18
  },
  {
   "cell_type": "markdown",
   "source": [
    "## Evaluating the network"
   ],
   "metadata": {
    "id": "8f9IaifSp0iR"
   }
  },
  {
   "metadata": {
    "id": "2SNF6PhCpw_h",
    "ExecuteTime": {
     "end_time": "2024-10-31T19:53:40.707987Z",
     "start_time": "2024-10-31T19:53:40.566578Z"
    }
   },
   "cell_type": "code",
   "outputs": [],
   "execution_count": 19,
   "source": [
    "network_loaded = tf.keras.models.model_from_json(json_saved_model)\n",
    "network_loaded.load_weights('models/emotions/weights_emotions.keras')\n",
    "network_loaded.compile(loss = 'categorical_crossentropy', optimizer='Adam', metrics=['accuracy'])"
   ]
  },
  {
   "metadata": {
    "ExecuteTime": {
     "end_time": "2024-10-31T19:54:08.038149Z",
     "start_time": "2024-10-31T19:54:08.029900Z"
    }
   },
   "cell_type": "code",
   "source": "network_loaded.summary()",
   "outputs": [
    {
     "name": "stdout",
     "output_type": "stream",
     "text": [
      "Model: \"sequential\"\n",
      "_________________________________________________________________\n",
      "Layer (type)                 Output Shape              Param #   \n",
      "=================================================================\n",
      "conv2d (Conv2D)              (None, 48, 48, 32)        896       \n",
      "_________________________________________________________________\n",
      "batch_normalization (BatchNo (None, 48, 48, 32)        128       \n",
      "_________________________________________________________________\n",
      "conv2d_1 (Conv2D)            (None, 48, 48, 32)        9248      \n",
      "_________________________________________________________________\n",
      "batch_normalization_1 (Batch (None, 48, 48, 32)        128       \n",
      "_________________________________________________________________\n",
      "max_pooling2d (MaxPooling2D) (None, 24, 24, 32)        0         \n",
      "_________________________________________________________________\n",
      "dropout (Dropout)            (None, 24, 24, 32)        0         \n",
      "_________________________________________________________________\n",
      "conv2d_2 (Conv2D)            (None, 24, 24, 64)        18496     \n",
      "_________________________________________________________________\n",
      "batch_normalization_2 (Batch (None, 24, 24, 64)        256       \n",
      "_________________________________________________________________\n",
      "conv2d_3 (Conv2D)            (None, 24, 24, 64)        36928     \n",
      "_________________________________________________________________\n",
      "batch_normalization_3 (Batch (None, 24, 24, 64)        256       \n",
      "_________________________________________________________________\n",
      "max_pooling2d_1 (MaxPooling2 (None, 12, 12, 64)        0         \n",
      "_________________________________________________________________\n",
      "dropout_1 (Dropout)          (None, 12, 12, 64)        0         \n",
      "_________________________________________________________________\n",
      "conv2d_4 (Conv2D)            (None, 12, 12, 128)       73856     \n",
      "_________________________________________________________________\n",
      "batch_normalization_4 (Batch (None, 12, 12, 128)       512       \n",
      "_________________________________________________________________\n",
      "conv2d_5 (Conv2D)            (None, 12, 12, 128)       147584    \n",
      "_________________________________________________________________\n",
      "batch_normalization_5 (Batch (None, 12, 12, 128)       512       \n",
      "_________________________________________________________________\n",
      "max_pooling2d_2 (MaxPooling2 (None, 6, 6, 128)         0         \n",
      "_________________________________________________________________\n",
      "dropout_2 (Dropout)          (None, 6, 6, 128)         0         \n",
      "_________________________________________________________________\n",
      "conv2d_6 (Conv2D)            (None, 6, 6, 256)         295168    \n",
      "_________________________________________________________________\n",
      "batch_normalization_6 (Batch (None, 6, 6, 256)         1024      \n",
      "_________________________________________________________________\n",
      "conv2d_7 (Conv2D)            (None, 6, 6, 256)         590080    \n",
      "_________________________________________________________________\n",
      "batch_normalization_7 (Batch (None, 6, 6, 256)         1024      \n",
      "_________________________________________________________________\n",
      "max_pooling2d_3 (MaxPooling2 (None, 3, 3, 256)         0         \n",
      "_________________________________________________________________\n",
      "dropout_3 (Dropout)          (None, 3, 3, 256)         0         \n",
      "_________________________________________________________________\n",
      "flatten (Flatten)            (None, 2304)              0         \n",
      "_________________________________________________________________\n",
      "dense (Dense)                (None, 64)                147520    \n",
      "_________________________________________________________________\n",
      "batch_normalization_8 (Batch (None, 64)                256       \n",
      "_________________________________________________________________\n",
      "dropout_4 (Dropout)          (None, 64)                0         \n",
      "_________________________________________________________________\n",
      "dense_1 (Dense)              (None, 64)                4160      \n",
      "_________________________________________________________________\n",
      "batch_normalization_9 (Batch (None, 64)                256       \n",
      "_________________________________________________________________\n",
      "dropout_5 (Dropout)          (None, 64)                0         \n",
      "_________________________________________________________________\n",
      "dense_2 (Dense)              (None, 7)                 455       \n",
      "=================================================================\n",
      "Total params: 1,328,743\n",
      "Trainable params: 1,326,567\n",
      "Non-trainable params: 2,176\n",
      "_________________________________________________________________\n"
     ]
    }
   ],
   "execution_count": 20
  },
  {
   "metadata": {
    "ExecuteTime": {
     "end_time": "2024-10-31T19:54:30.557537Z",
     "start_time": "2024-10-31T19:54:23.353895Z"
    }
   },
   "cell_type": "code",
   "source": "network_loaded.evaluate(test_dataset)",
   "outputs": [
    {
     "name": "stdout",
     "output_type": "stream",
     "text": [
      "3589/3589 [==============================] - 7s 2ms/step - loss: 1.5435 - accuracy: 0.5890\n"
     ]
    },
    {
     "data": {
      "text/plain": [
       "[1.5435280799865723, 0.5890220403671265]"
      ]
     },
     "execution_count": 21,
     "metadata": {},
     "output_type": "execute_result"
    }
   ],
   "execution_count": 21
  },
  {
   "metadata": {
    "ExecuteTime": {
     "end_time": "2024-10-31T19:56:33.056145Z",
     "start_time": "2024-10-31T19:56:28.921746Z"
    }
   },
   "cell_type": "code",
   "source": [
    "predictions = network_loaded.predict(test_dataset)\n",
    "predictions"
   ],
   "outputs": [
    {
     "data": {
      "text/plain": [
       "array([[8.4874105e-01, 1.9854402e-02, 2.1490296e-02, ..., 6.6702209e-02,\n",
       "        3.6586910e-02, 6.8784948e-04],\n",
       "       [9.4159132e-01, 1.2923010e-04, 4.5059588e-02, ..., 9.9646719e-04,\n",
       "        1.2713422e-03, 2.2152215e-03],\n",
       "       [9.8859543e-01, 3.0183903e-04, 2.1102596e-03, ..., 2.4192263e-03,\n",
       "        6.3661826e-03, 9.7667680e-06],\n",
       "       ...,\n",
       "       [4.7225384e-03, 5.3243901e-05, 5.5749599e-02, ..., 5.7291412e-03,\n",
       "        2.6620137e-02, 9.0712178e-01],\n",
       "       [4.9432614e-03, 8.9600953e-06, 4.3609228e-02, ..., 3.1403448e-02,\n",
       "        1.3980651e-02, 9.0359235e-01],\n",
       "       [1.4974197e-02, 1.3004740e-04, 2.6486386e-02, ..., 3.2147563e-03,\n",
       "        1.3043911e-02, 9.4001466e-01]], dtype=float32)"
      ]
     },
     "execution_count": 22,
     "metadata": {},
     "output_type": "execute_result"
    }
   ],
   "execution_count": 22
  }
 ]
}
